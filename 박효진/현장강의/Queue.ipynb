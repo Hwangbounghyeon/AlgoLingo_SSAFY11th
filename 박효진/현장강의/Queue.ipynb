{
 "cells": [
  {
   "cell_type": "markdown",
   "metadata": {},
   "source": [
    "# Queue의 구현"
   ]
  },
  {
   "cell_type": "markdown",
   "metadata": {},
   "source": [
    "### 선형 큐"
   ]
  },
  {
   "cell_type": "code",
   "execution_count": null,
   "metadata": {},
   "outputs": [],
   "source": [
    "SIZE = 10\n",
    "queue = [0] * SIZE\n",
    "front = rear = -1 # 초기화\n",
    "\n",
    "# 큐에 대한 삽입 연산 enqueue\n",
    "def enqueue(item):\n",
    "    global rear\n",
    "    # 큐가 이미 꽉 찬 상태일 때에는 삽입 불가\n",
    "    if is_full():\n",
    "        return -1\n",
    "    # 꼬리 rear를 1 증가 시키고 해당 위치에 요소를 삽입한다\n",
    "    rear += 1\n",
    "    queue[rear] = item\n",
    "\n",
    "# 큐에 대한 삭제 연산 dequeue\n",
    "def dequeue():\n",
    "    global front\n",
    "    if is_empty():\n",
    "        return -1\n",
    "    # 머리 front 1 증가 시키고 그 위치의 요소를 반환한다\n",
    "    front += 1\n",
    "    return queue[front]\n",
    "\n",
    "# queue 보조 연산\n",
    "\n",
    "# is_full : 가득 차 있는 상태\n",
    "def is_full():\n",
    "    return rear == SIZE - 1\n",
    "\n",
    "# is_empty : 비어있는 상태\n",
    "def is_empty():\n",
    "    return front == rear\n",
    "\n",
    "# qpeek : 꺼낼 요소를 미리 확인해볼 수 있는 peek\n",
    "def qpeek():\n",
    "    return queue[front + 1]"
   ]
  },
  {
   "cell_type": "code",
   "execution_count": 1,
   "metadata": {},
   "outputs": [
    {
     "name": "stdout",
     "output_type": "stream",
     "text": [
      "1\n",
      "2\n",
      "3\n"
     ]
    }
   ],
   "source": [
    "# 큐를 구현해서 1, 2, 3 원소를 순서대로 삽입\n",
    "# 큐에서 값 3개를 꺼내 차례대로 출력한다\n",
    "SIZE = 10\n",
    "queue = [0] * SIZE\n",
    "front = rear = -1 # 초기화\n",
    "\n",
    "# 큐에 대한 삽입 연산 enqueue\n",
    "def enqueue(item):\n",
    "    global rear\n",
    "    # 큐가 이미 꽉 찬 상태일 때에는 삽입 불가\n",
    "    if is_full():\n",
    "        return -1\n",
    "    # 꼬리 rear를 1 증가 시키고 해당 위치에 요소를 삽입한다\n",
    "    rear += 1\n",
    "    queue[rear] = item\n",
    "\n",
    "# 큐에 대한 삭제 연산 dequeue\n",
    "def dequeue():\n",
    "    global front\n",
    "    if is_empty():\n",
    "        return -1\n",
    "    # 머리 front 1 증가 시키고 그 위치의 요소를 반환한다\n",
    "    front += 1\n",
    "    return queue[front]\n",
    "\n",
    "# queue 보조 연산\n",
    "\n",
    "# is_full : 가득 차 있는 상태\n",
    "def is_full():\n",
    "    return rear == SIZE - 1\n",
    "\n",
    "# is_empty : 비어있는 상태\n",
    "def is_empty():\n",
    "    return front == rear\n",
    "\n",
    "# qpeek : 꺼낼 요소를 미리 확인해볼 수 있는 peek\n",
    "def qpeek():\n",
    "    return queue[front + 1]\n",
    "\n",
    "enqueue(1)\n",
    "enqueue(2)\n",
    "enqueue(3)\n",
    "item = dequeue()\n",
    "print(item)\n",
    "item = dequeue()\n",
    "print(item)\n",
    "item = dequeue()\n",
    "print(item)\n"
   ]
  },
  {
   "cell_type": "markdown",
   "metadata": {},
   "source": [
    "### 원형 큐(circle_queue)"
   ]
  },
  {
   "cell_type": "code",
   "execution_count": null,
   "metadata": {},
   "outputs": [],
   "source": [
    "SIZE = 10\n",
    "queue = [0] * SIZE\n",
    "front = rear = -1 # 초기화\n",
    "\n",
    "# 큐에 대한 삽입 연산 enqueue\n",
    "def enqueue(item):\n",
    "    global rear\n",
    "    # 큐가 이미 꽉 찬 상태일 때에는 삽입 불가\n",
    "    if is_full():\n",
    "        return -1\n",
    "    # 꼬리 rear를 1 증가 시키고 해당 위치에 요소를 삽입한다\n",
    "    rear = (rear+1) % SIZE\n",
    "    queue[rear] = item\n",
    "\n",
    "# 큐에 대한 삭제 연산 dequeue\n",
    "def dequeue():\n",
    "    global front\n",
    "    if is_empty():\n",
    "        return -1\n",
    "    # 머리 front 1 증가 시키고 그 위치의 요소를 반환한다\n",
    "    front = (front + 1) % SIZE\n",
    "    return queue[front]\n",
    "\n",
    "# queue 보조 연산\n",
    "\n",
    "# is_full : 가득 차 있는 상태\n",
    "def is_full():\n",
    "    # 머리와 꼬리가 맞닿은 상태\n",
    "    return (rear + 1) % SIZE == front\n",
    "\n",
    "# is_empty : 비어있는 상태\n",
    "def is_empty():\n",
    "    return front == rear\n",
    "\n",
    "# qpeek : 꺼낼 요소를 미리 확인해볼 수 있는 peek\n",
    "def qpeek():\n",
    "    return queue[(front + 1) % SIZE]"
   ]
  },
  {
   "cell_type": "markdown",
   "metadata": {},
   "source": [
    "# deque (데크, double-end queue)\n",
    "양쪽에서 값을 삽입/삭제"
   ]
  },
  {
   "cell_type": "code",
   "execution_count": null,
   "metadata": {},
   "outputs": [],
   "source": [
    "from collections import deque\n",
    "\n",
    "# 데크 객체 생성 (초기화)\n",
    "dq = deque()\n",
    "# 삽입 enqueue \n",
    "dq.append(1)        # 뒤에 원소를 추가\n",
    "dq.appendleft(1)    # 앞에 원소를 추가\n",
    "\n",
    "# 삭제 dequeue \n",
    "dq.pop()            # 뒤에 원소를 삭제\n",
    "dq.popleft()        # 앞에 원소를 삭제\n"
   ]
  },
  {
   "cell_type": "markdown",
   "metadata": {},
   "source": [
    "# heapq\n",
    "우선순위 큐"
   ]
  },
  {
   "cell_type": "code",
   "execution_count": 6,
   "metadata": {},
   "outputs": [
    {
     "name": "stdout",
     "output_type": "stream",
     "text": [
      "[0, 10, 50, 100, 30]\n",
      "0\n",
      "-10\n",
      "-30\n",
      "-50\n",
      "-100\n"
     ]
    }
   ],
   "source": [
    "from heapq import heappop, heappush\n",
    "# 기본적으로 리스트 자료형을 사용하여 동작 수행\n",
    "hq = [] # 힙으로 사용할 리스트\n",
    "\n",
    "# 우선순위큐에 값을 삽입하는 연산 enqueue => heappush 함수\n",
    "heappush(hq, 30)\n",
    "heappush(hq, 10)\n",
    "heappush(hq, 50)\n",
    "heappush(hq, 100)\n",
    "heappush(hq, 0)\n",
    "print(hq)\n",
    "\n",
    "# 우선순위큐에 삭제 하는 연산 dequeue => heappop 함수\n",
    "item = heappop(hq)\n",
    "print(item)\n",
    "item = heappop(hq)\n",
    "print(item)\n",
    "item = heappop(hq)\n",
    "print(item)\n",
    "item = heappop(hq)\n",
    "print(item)\n",
    "item = heappop(hq)\n",
    "print(item)\n"
   ]
  },
  {
   "cell_type": "markdown",
   "metadata": {},
   "source": []
  }
 ],
 "metadata": {
  "kernelspec": {
   "display_name": "Python 3",
   "language": "python",
   "name": "python3"
  },
  "language_info": {
   "codemirror_mode": {
    "name": "ipython",
    "version": 3
   },
   "file_extension": ".py",
   "mimetype": "text/x-python",
   "name": "python",
   "nbconvert_exporter": "python",
   "pygments_lexer": "ipython3",
   "version": "3.9.13"
  }
 },
 "nbformat": 4,
 "nbformat_minor": 2
}
