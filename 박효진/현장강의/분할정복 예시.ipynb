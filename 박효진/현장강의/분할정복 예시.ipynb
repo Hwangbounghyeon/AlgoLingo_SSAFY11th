{
 "cells": [
  {
   "cell_type": "markdown",
   "metadata": {},
   "source": [
    "## 분할정복"
   ]
  },
  {
   "cell_type": "code",
   "execution_count": 2,
   "metadata": {},
   "outputs": [
    {
     "ename": "TypeError",
     "evalue": "list indices must be integers or slices, not NoneType",
     "output_type": "error",
     "traceback": [
      "\u001b[1;31m---------------------------------------------------------------------------\u001b[0m",
      "\u001b[1;31mTypeError\u001b[0m                                 Traceback (most recent call last)",
      "Cell \u001b[1;32mIn[2], line 47\u001b[0m\n\u001b[0;32m     39\u001b[0m     \u001b[38;5;66;03m# 나머지 b가 이긴경우\u001b[39;00m\n\u001b[0;32m     40\u001b[0m     \u001b[38;5;66;03m# 가위 vs 바위\u001b[39;00m\n\u001b[0;32m     41\u001b[0m     \u001b[38;5;66;03m# 바위 vs 보\u001b[39;00m\n\u001b[0;32m     42\u001b[0m     \u001b[38;5;66;03m# 보 vs 가위\u001b[39;00m\n\u001b[0;32m     43\u001b[0m     \u001b[38;5;28;01melse\u001b[39;00m:\n\u001b[0;32m     44\u001b[0m         \u001b[38;5;28;01mreturn\u001b[39;00m b\n\u001b[1;32m---> 47\u001b[0m result \u001b[38;5;241m=\u001b[39m \u001b[43mtournament\u001b[49m\u001b[43m(\u001b[49m\u001b[38;5;241;43m0\u001b[39;49m\u001b[43m,\u001b[49m\u001b[43m \u001b[49m\u001b[43mN\u001b[49m\u001b[38;5;241;43m-\u001b[39;49m\u001b[38;5;241;43m1\u001b[39;49m\u001b[43m)\u001b[49m \u001b[38;5;241m+\u001b[39m \u001b[38;5;241m1\u001b[39m\n\u001b[0;32m     48\u001b[0m \u001b[38;5;66;03m# 출력\u001b[39;00m\n\u001b[0;32m     49\u001b[0m \u001b[38;5;28mprint\u001b[39m(\u001b[38;5;124mf\u001b[39m\u001b[38;5;124m'\u001b[39m\u001b[38;5;124m#\u001b[39m\u001b[38;5;132;01m{\u001b[39;00mtc\u001b[38;5;132;01m}\u001b[39;00m\u001b[38;5;124m \u001b[39m\u001b[38;5;132;01m{\u001b[39;00mresult\u001b[38;5;132;01m}\u001b[39;00m\u001b[38;5;124m'\u001b[39m)\n",
      "Cell \u001b[1;32mIn[2], line 22\u001b[0m, in \u001b[0;36mtournament\u001b[1;34m(i, j)\u001b[0m\n\u001b[0;32m     19\u001b[0m winner2 \u001b[38;5;241m=\u001b[39m tournament((i\u001b[38;5;241m+\u001b[39mj)\u001b[38;5;241m/\u001b[39m\u001b[38;5;241m/\u001b[39m\u001b[38;5;241m2\u001b[39m \u001b[38;5;241m+\u001b[39m \u001b[38;5;241m1\u001b[39m, j) \u001b[38;5;66;03m# 오른쪽그룹\u001b[39;00m\n\u001b[0;32m     21\u001b[0m \u001b[38;5;66;03m#가위바위보 게임을 시킨다 '정복'\u001b[39;00m\n\u001b[1;32m---> 22\u001b[0m \u001b[43mplay\u001b[49m\u001b[43m(\u001b[49m\u001b[43mwinner1\u001b[49m\u001b[43m,\u001b[49m\u001b[43m \u001b[49m\u001b[43mwinner2\u001b[49m\u001b[43m)\u001b[49m\n",
      "Cell \u001b[1;32mIn[2], line 26\u001b[0m, in \u001b[0;36mplay\u001b[1;34m(a, b)\u001b[0m\n\u001b[0;32m     25\u001b[0m \u001b[38;5;28;01mdef\u001b[39;00m \u001b[38;5;21mplay\u001b[39m(a, b):\n\u001b[1;32m---> 26\u001b[0m     card_a \u001b[38;5;241m=\u001b[39m \u001b[43mcards\u001b[49m\u001b[43m[\u001b[49m\u001b[43ma\u001b[49m\u001b[43m]\u001b[49m\n\u001b[0;32m     27\u001b[0m     card_b \u001b[38;5;241m=\u001b[39m cards[b]\n\u001b[0;32m     29\u001b[0m     \u001b[38;5;66;03m# 가위 1, 바위 2, 보 3\u001b[39;00m\n\u001b[0;32m     30\u001b[0m     \n\u001b[0;32m     31\u001b[0m     \u001b[38;5;66;03m# 가위 vs 가위 or 바위 vs 바위 or 보 vs 보\u001b[39;00m\n",
      "\u001b[1;31mTypeError\u001b[0m: list indices must be integers or slices, not NoneType"
     ]
    }
   ],
   "source": [
    "# 테스트케이스 수\n",
    "# 인원수 N 과 다음줄에 N명이 고른 카드가 번호순으로.\n",
    "T = int(input())\n",
    "for tc in range(1, T+1):\n",
    "    #입력\n",
    "    #인원의 수N\n",
    "    N = int(input())\n",
    "    #인원들이 뽑은 카드 번호들 cards\n",
    "    cards = list(map(int,input().split()))\n",
    "    #로직\n",
    "    #해당 인원들을 절반씩 자르면서 토너먼트 형태로 경기를 진행\n",
    "    # 분할정복 (divide-conquer) 기법\n",
    "    def tournament(i, j): # 시작점 i, 끝점 j\n",
    "        # 기저조건 : 단 한명만 남을 때 까지\n",
    "        if i == j: # 양쪽 끝이 같다. 단 한명이 남을경우\n",
    "            return i\n",
    "        # 해당 인원을 절반씩 자르는 '분할' 과정..\n",
    "        winner1 = tournament(i, (i+j)//2)     # 왼쪽그룹\n",
    "        winner2 = tournament((i+j)//2 + 1, j) # 오른쪽그룹\n",
    "\n",
    "        #가위바위보 게임을 시킨다 '정복'\n",
    "        play(winner1, winner2)\n",
    "    \n",
    "    # 사람 a와 사람b에 대한 가위바위보 진행\n",
    "    def play(a, b):\n",
    "        card_a = cards[a]\n",
    "        card_b = cards[b]\n",
    "\n",
    "        # 가위 1, 바위 2, 보 3\n",
    "        \n",
    "        # 가위 vs 가위 or 바위 vs 바위 or 보 vs 보\n",
    "        if card_a == card_b: # 이 경우 번호 작은사람이 이긴다 = a 승리\n",
    "            return a\n",
    "        # a가 이긴경우 가위 vs 보, 바위 vs 가위, 보 vs 바위\n",
    "        elif (card_a == 1 and card_b == 3) or \\\n",
    "            (card_a == 2 and card_b == 1) or \\\n",
    "            (card_a == 3 and card_b == 2):\n",
    "            return a\n",
    "        # 나머지 b가 이긴경우\n",
    "        # 가위 vs 바위\n",
    "        # 바위 vs 보\n",
    "        # 보 vs 가위\n",
    "        else:\n",
    "            return b\n",
    "\n",
    "    \n",
    "    result = tournament(0, N-1) + 1\n",
    "    # 출력\n",
    "    print(f'#{tc} {result}')"
   ]
  }
 ],
 "metadata": {
  "kernelspec": {
   "display_name": "Python 3",
   "language": "python",
   "name": "python3"
  },
  "language_info": {
   "codemirror_mode": {
    "name": "ipython",
    "version": 3
   },
   "file_extension": ".py",
   "mimetype": "text/x-python",
   "name": "python",
   "nbconvert_exporter": "python",
   "pygments_lexer": "ipython3",
   "version": "3.9.13"
  }
 },
 "nbformat": 4,
 "nbformat_minor": 2
}
