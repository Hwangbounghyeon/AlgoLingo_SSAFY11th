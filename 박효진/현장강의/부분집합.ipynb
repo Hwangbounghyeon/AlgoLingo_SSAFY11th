{
 "cells": [
  {
   "cell_type": "code",
   "execution_count": 13,
   "metadata": {},
   "outputs": [
    {
     "name": "stdout",
     "output_type": "stream",
     "text": [
      "[1, 2, 3, 4]\n",
      "[1, 2, 7]\n",
      "[1, 3, 6]\n",
      "[1, 4, 5]\n",
      "[1, 9]\n",
      "[2, 3, 5]\n",
      "[2, 8]\n",
      "[3, 7]\n",
      "[4, 6]\n",
      "[10]\n",
      "2047\n"
     ]
    }
   ],
   "source": [
    "\n",
    "def dfs(i, subset):\n",
    "    # 기저조건(멈춰줄 조건은 부분집합의 길이에 도달했을때)\n",
    "    # i가 A의 길이만큼 진행했다면 종료\n",
    "    global cnt\n",
    "    cnt += 1\n",
    "    if i == len(A):\n",
    "        # 부분집합의 합이 10인 경우라면 출력!!\n",
    "        if sum(subset) == 10:\n",
    "            print(subset)\n",
    "        return\n",
    "    # 재귀호출\n",
    "    # 해당 i 번째 인덱스의 요소를 포함O (그래프상 왼쪽)\n",
    "    subset.append(A[i]) # 결정\n",
    "    dfs(i+1, subset)\n",
    "    # 해당 i 번째 인덱스의 요소를 포함X (그래프상 오른쪽)\n",
    "    subset.pop()\n",
    "    dfs(i+1, subset)\n",
    "\n",
    "# 1부터 10까지의 값을 가지고 있는 전체 집합 A\n",
    "A = [1, 2, 3, 4, 5, 6, 7, 8, 9, 10]\n",
    "cnt = 0\n",
    "dfs(0,[])\n",
    "print(cnt)\n"
   ]
  },
  {
   "cell_type": "markdown",
   "metadata": {},
   "source": [
    "## 이번엔 백트래킹 + 가지치기\n",
    "뻗어 나가다가 부분집합의 합이 10을 넘어간다면 실행하지 않는다\n",
    "=가망이 없다"
   ]
  },
  {
   "cell_type": "code",
   "execution_count": 11,
   "metadata": {},
   "outputs": [
    {
     "name": "stdout",
     "output_type": "stream",
     "text": [
      "[1, 2, 3, 4]\n",
      "[1, 2, 7]\n",
      "[1, 3, 6]\n",
      "[1, 4, 5]\n",
      "[1, 9]\n",
      "[2, 3, 5]\n",
      "[2, 8]\n",
      "[3, 7]\n",
      "[4, 6]\n",
      "[10]\n",
      "415\n"
     ]
    }
   ],
   "source": [
    "\n",
    "def dfs(i, subset):\n",
    "    # 기저조건(멈춰줄 조건은 부분집합의 길이에 도달했을때)\n",
    "    # i가 A의 길이만큼 진행했다면 종료\n",
    "    global cnt\n",
    "    cnt += 1\n",
    "    if i == len(A):\n",
    "        # 부분집합의 합이 10인 경우라면 출력!!\n",
    "        if sum(subset) == 10:\n",
    "            print(subset)\n",
    "        return cnt\n",
    "    # 가지치기 : subset의 전체 합이 10을 넘어가는 경우\n",
    "    if sum(subset) > 10:\n",
    "        return cnt\n",
    "    # 재귀호출\n",
    "    # 해당 i 번째 인덱스의 요소를 포함O (그래프상 왼쪽)\n",
    "    subset.append(A[i]) # 결정\n",
    "    dfs(i+1, subset)\n",
    "    # 해당 i 번째 인덱스의 요소를 포함X (그래프상 오른쪽)\n",
    "    subset.pop()\n",
    "    dfs(i+1, subset)\n",
    "\n",
    "# 1부터 10까지의 값을 가지고 있는 전체 집합 A\n",
    "A = [1, 2, 3, 4, 5, 6, 7, 8, 9, 10]\n",
    "cnt = 0\n",
    "dfs(0,[])\n",
    "print(cnt)"
   ]
  },
  {
   "cell_type": "markdown",
   "metadata": {},
   "source": [
    "## sum 함수를 사용하지 않고 total이라는 변수를 통해 넘겨줄 것"
   ]
  },
  {
   "cell_type": "code",
   "execution_count": 12,
   "metadata": {},
   "outputs": [
    {
     "name": "stdout",
     "output_type": "stream",
     "text": [
      "[1, 2, 3, 4]\n",
      "[1, 2, 7]\n",
      "[1, 3, 6]\n",
      "[1, 4, 5]\n",
      "[1, 9]\n",
      "[2, 3, 5]\n",
      "[2, 8]\n",
      "[3, 7]\n",
      "[4, 6]\n",
      "[10]\n"
     ]
    }
   ],
   "source": [
    "\n",
    "def dfs(i, subset, total):\n",
    "    # 기저조건(멈춰줄 조건은 부분집합의 길이에 도달했을때)\n",
    "    # i가 A의 길이만큼 진행했다면 종료\n",
    "    if i == len(A):\n",
    "        # 부분집합의 합이 10인 경우라면 출력!!\n",
    "        if total == 10:\n",
    "            print(subset)\n",
    "        return\n",
    "    # 가지치기 : subset의 전체 합이 10을 넘어가는 경우\n",
    "    if total > 10:\n",
    "        return\n",
    "    # 재귀호출\n",
    "    # 해당 i 번째 인덱스의 요소를 포함O (그래프상 왼쪽)\n",
    "    subset.append(A[i]) # 결정\n",
    "    dfs(i+1, subset, total + A[i])\n",
    "    # 해당 i 번째 인덱스의 요소를 포함X (그래프상 오른쪽)\n",
    "    subset.pop()\n",
    "    dfs(i+1, subset, total)\n",
    "\n",
    "# 1부터 10까지의 값을 가지고 있는 전체 집합 A\n",
    "A = [1, 2, 3, 4, 5, 6, 7, 8, 9, 10]\n",
    "total = 0\n",
    "dfs(0,[], total)"
   ]
  },
  {
   "cell_type": "code",
   "execution_count": null,
   "metadata": {},
   "outputs": [],
   "source": []
  }
 ],
 "metadata": {
  "kernelspec": {
   "display_name": "Python 3",
   "language": "python",
   "name": "python3"
  },
  "language_info": {
   "codemirror_mode": {
    "name": "ipython",
    "version": 3
   },
   "file_extension": ".py",
   "mimetype": "text/x-python",
   "name": "python",
   "nbconvert_exporter": "python",
   "pygments_lexer": "ipython3",
   "version": "3.9.13"
  }
 },
 "nbformat": 4,
 "nbformat_minor": 2
}
