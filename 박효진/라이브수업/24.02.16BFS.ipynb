{
 "cells": [
  {
   "cell_type": "code",
   "execution_count": 6,
   "metadata": {},
   "outputs": [
    {
     "ename": "ValueError",
     "evalue": "not enough values to unpack (expected 2, got 0)",
     "output_type": "error",
     "traceback": [
      "\u001b[1;31m---------------------------------------------------------------------------\u001b[0m",
      "\u001b[1;31mValueError\u001b[0m                                Traceback (most recent call last)",
      "Cell \u001b[1;32mIn[6], line 26\u001b[0m\n\u001b[0;32m     24\u001b[0m                 visited[i] \u001b[38;5;241m=\u001b[39m \u001b[38;5;241m1\u001b[39m \u001b[38;5;241m+\u001b[39m visited[t] \u001b[38;5;66;03m# 방문표시(증가 값 기입)\u001b[39;00m\n\u001b[0;32m     25\u001b[0m     \u001b[38;5;28mprint\u001b[39m(visited)\n\u001b[1;32m---> 26\u001b[0m V, E \u001b[38;5;241m=\u001b[39m \u001b[38;5;28mmap\u001b[39m(\u001b[38;5;28mint\u001b[39m, \u001b[38;5;28minput\u001b[39m()\u001b[38;5;241m.\u001b[39msplit())\n\u001b[0;32m     27\u001b[0m graph \u001b[38;5;241m=\u001b[39m \u001b[38;5;28mlist\u001b[39m(\u001b[38;5;28mmap\u001b[39m(\u001b[38;5;28mint\u001b[39m, \u001b[38;5;28minput\u001b[39m()\u001b[38;5;241m.\u001b[39msplit()))\n\u001b[0;32m     28\u001b[0m adjl \u001b[38;5;241m=\u001b[39m [[]\u001b[38;5;28;01mfor\u001b[39;00m _ \u001b[38;5;129;01min\u001b[39;00m \u001b[38;5;28mrange\u001b[39m(V\u001b[38;5;241m+\u001b[39m\u001b[38;5;241m1\u001b[39m)]\n",
      "\u001b[1;31mValueError\u001b[0m: not enough values to unpack (expected 2, got 0)"
     ]
    }
   ],
   "source": []
  },
  {
   "cell_type": "code",
   "execution_count": 7,
   "metadata": {},
   "outputs": [
    {
     "ename": "ValueError",
     "evalue": "not enough values to unpack (expected 2, got 0)",
     "output_type": "error",
     "traceback": [
      "\u001b[1;31m---------------------------------------------------------------------------\u001b[0m",
      "\u001b[1;31mValueError\u001b[0m                                Traceback (most recent call last)",
      "Cell \u001b[1;32mIn[7], line 26\u001b[0m\n\u001b[0;32m     24\u001b[0m                 visited[i] \u001b[38;5;241m=\u001b[39m \u001b[38;5;241m1\u001b[39m \u001b[38;5;241m+\u001b[39m visited[t] \u001b[38;5;66;03m# 방문표시(증가 값 기입)\u001b[39;00m\n\u001b[0;32m     25\u001b[0m     \u001b[38;5;28mprint\u001b[39m(visited)\n\u001b[1;32m---> 26\u001b[0m V, E \u001b[38;5;241m=\u001b[39m \u001b[38;5;28mmap\u001b[39m(\u001b[38;5;28mint\u001b[39m, \u001b[38;5;28minput\u001b[39m()\u001b[38;5;241m.\u001b[39msplit())\n\u001b[0;32m     27\u001b[0m graph \u001b[38;5;241m=\u001b[39m \u001b[38;5;28mlist\u001b[39m(\u001b[38;5;28mmap\u001b[39m(\u001b[38;5;28mint\u001b[39m, \u001b[38;5;28minput\u001b[39m()\u001b[38;5;241m.\u001b[39msplit()))\n\u001b[0;32m     28\u001b[0m adjl \u001b[38;5;241m=\u001b[39m [[]\u001b[38;5;28;01mfor\u001b[39;00m _ \u001b[38;5;129;01min\u001b[39;00m \u001b[38;5;28mrange\u001b[39m(V\u001b[38;5;241m+\u001b[39m\u001b[38;5;241m1\u001b[39m)]\n",
      "\u001b[1;31mValueError\u001b[0m: not enough values to unpack (expected 2, got 0)"
     ]
    }
   ],
   "source": [
    "'''\n",
    "V E : V 1~V번까지 V개의 정점. E개의 간선\n",
    "E개의 간선정보\n",
    "7 8\n",
    "1 2 1 3 2 4 2 5 4 6 5 6 6 7 3 7\n",
    "'''\n",
    "def bfs(s,N):   # 시작정점 s, 노드개수 N\n",
    "    # 큐\n",
    "    q = []          \n",
    "    # visited\n",
    "    visited = [0]*(N+1)\n",
    "\n",
    "    # 시작점 인큐\n",
    "    q.append(s)\n",
    "\n",
    "    # 시작점 방문표시 0으로할거면 visited를 -1로 채워야함\n",
    "    visited[s] = 1\n",
    "\n",
    "    # 큐가 비워질때까지..(남은 정점이 있으면 계속 돌린다) = 처리안된 정점이 있으면\n",
    "    while q:\n",
    "        t = q.pop(0)        # 처리할 정점 삭제 == 디큐\n",
    "        # t에서 할일\n",
    "        print(t)\n",
    "        for i in adjl[t]:  #인접리스트에대해 하나씩 꺼내오는 것 = t에 인접인 정점 i\n",
    "            if visited[i] == 0: # 방문하지 않은 정점이면\n",
    "                q.append(i) # 인큐\n",
    "                visited[i] = 1 + visited[t] # 방문표시(증가 값 기입)\n",
    "    print(visited)\n",
    "V, E = map(int, input().split())\n",
    "graph = list(map(int, input().split()))\n",
    "adjl = [[]for _ in range(V+1)]\n",
    "# 인접리스트 저장 (그래프 저장 2가지 방법 위 for문 아래 for문)\n",
    "# for i in range(0, E*2, 2)\n",
    "#     n1, n2 = arr[i], arr[i+1]\n",
    "for i in range(E):\n",
    "    n1, n2 = graph[i*2], graph[i*2+1]\n",
    "    adjl[n1].append(n2)\n",
    "    adjl[n2].append(n1) # 무방향 그래프(무향 그래프) 화살표가있다면 해당 라인은 삭제.\n",
    "\n",
    "bfs(1,V)        #bfs(시작정점, 노드갯수)"
   ]
  },
  {
   "cell_type": "code",
   "execution_count": null,
   "metadata": {},
   "outputs": [],
   "source": [
    "# 노드의 거리"
   ]
  }
 ],
 "metadata": {
  "kernelspec": {
   "display_name": "Python 3",
   "language": "python",
   "name": "python3"
  },
  "language_info": {
   "codemirror_mode": {
    "name": "ipython",
    "version": 3
   },
   "file_extension": ".py",
   "mimetype": "text/x-python",
   "name": "python",
   "nbconvert_exporter": "python",
   "pygments_lexer": "ipython3",
   "version": "3.9.13"
  }
 },
 "nbformat": 4,
 "nbformat_minor": 2
}
