{
 "cells": [
  {
   "cell_type": "code",
   "execution_count": 3,
   "metadata": {},
   "outputs": [
    {
     "name": "stdout",
     "output_type": "stream",
     "text": [
      "1\n",
      "1 2 4 7 12 3 5 8 9 6 10 11 13 "
     ]
    }
   ],
   "source": [
    "'''\n",
    "13\n",
    "1 2 1 3 2 4 3 5 3 6 4 7 5 8 5 9 6 10 6 11 7 12 11 13\n",
    "'''\n",
    "def pre_order(T):   # T 정점, 전위순회\n",
    "    if T:\n",
    "        print(T, end = ' ')\n",
    "        pre_order(left[T])\n",
    "        pre_order(right[T])\n",
    "\n",
    "N = int(input())    # 1번부터 N번까지인 정점\n",
    "E = N - 1\n",
    "arr = list(map(int, input().split()))\n",
    "left = [0] * (N+1)  # 부모를 인덱스로 왼쪽 자식 번호 저장\n",
    "right = [0] * (N+1)\n",
    "par = [0] * (N+1)   # 자식을 인덱스로 부모 저장\n",
    "\n",
    "for i in range(E):\n",
    "    p, c = arr[i*2], arr[i*2 + 1]\n",
    "    if left[p] == 0:        # 왼쪽 자식이 없으면\n",
    "        left[p] = c\n",
    "    else:\n",
    "        right[p] = c\n",
    "    par[c] = p\n",
    "\n",
    "c = N\n",
    "while par[c] != 0:      # 부모가 있으면\n",
    "    c = par[c]          # 부모를 새로운 자식으로 두고\n",
    "root = c                # 더이상 부모가 없으면 root\n",
    "print(root)\n",
    "pre_order(root)         # 전위순회"
   ]
  },
  {
   "cell_type": "code",
   "execution_count": 4,
   "metadata": {},
   "outputs": [
    {
     "ename": "IndexError",
     "evalue": "list index out of range",
     "output_type": "error",
     "traceback": [
      "\u001b[1;31m---------------------------------------------------------------------------\u001b[0m",
      "\u001b[1;31mIndexError\u001b[0m                                Traceback (most recent call last)",
      "Cell \u001b[1;32mIn[4], line 15\u001b[0m\n\u001b[0;32m     12\u001b[0m par \u001b[38;5;241m=\u001b[39m [\u001b[38;5;241m0\u001b[39m] \u001b[38;5;241m*\u001b[39m (N\u001b[38;5;241m+\u001b[39m\u001b[38;5;241m1\u001b[39m)   \u001b[38;5;66;03m# 자식을 인덱스로 부모 저장\u001b[39;00m\n\u001b[0;32m     14\u001b[0m \u001b[38;5;28;01mfor\u001b[39;00m i \u001b[38;5;129;01min\u001b[39;00m \u001b[38;5;28mrange\u001b[39m(E):\n\u001b[1;32m---> 15\u001b[0m     p, c \u001b[38;5;241m=\u001b[39m arr[i\u001b[38;5;241m*\u001b[39m\u001b[38;5;241m2\u001b[39m], \u001b[43marr\u001b[49m\u001b[43m[\u001b[49m\u001b[43mi\u001b[49m\u001b[38;5;241;43m*\u001b[39;49m\u001b[38;5;241;43m2\u001b[39;49m\u001b[43m \u001b[49m\u001b[38;5;241;43m+\u001b[39;49m\u001b[43m \u001b[49m\u001b[38;5;241;43m1\u001b[39;49m\u001b[43m]\u001b[49m\n\u001b[0;32m     16\u001b[0m     \u001b[38;5;28;01mif\u001b[39;00m left[p] \u001b[38;5;241m==\u001b[39m \u001b[38;5;241m0\u001b[39m:        \u001b[38;5;66;03m# 왼쪽 자식이 없으면\u001b[39;00m\n\u001b[0;32m     17\u001b[0m         left[p] \u001b[38;5;241m=\u001b[39m c\n",
      "\u001b[1;31mIndexError\u001b[0m: list index out of range"
     ]
    }
   ],
   "source": [
    "def pre_order(T):   # T 정점, 중위\n",
    "    if T:\n",
    "        pre_order(left[T])\n",
    "        print(T, end = ' ')\n",
    "        pre_order(right[T])\n",
    "\n",
    "N = int(input())    # 1번부터 N번까지인 정점\n",
    "E = N - 1\n",
    "arr = [x for x in range(1, N)]\n",
    "left = [0] * (N+1)  # 부모를 인덱스로 왼쪽 자식 번호 저장\n",
    "right = [0] * (N+1)\n",
    "par = [0] * (N+1)   # 자식을 인덱스로 부모 저장\n"
   ]
  }
 ],
 "metadata": {
  "kernelspec": {
   "display_name": "Python 3",
   "language": "python",
   "name": "python3"
  },
  "language_info": {
   "codemirror_mode": {
    "name": "ipython",
    "version": 3
   },
   "file_extension": ".py",
   "mimetype": "text/x-python",
   "name": "python",
   "nbconvert_exporter": "python",
   "pygments_lexer": "ipython3",
   "version": "3.9.13"
  }
 },
 "nbformat": 4,
 "nbformat_minor": 2
}
