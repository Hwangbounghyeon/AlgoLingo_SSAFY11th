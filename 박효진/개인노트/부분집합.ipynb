{
 "cells": [
  {
   "cell_type": "code",
   "execution_count": 7,
   "metadata": {},
   "outputs": [
    {
     "name": "stdout",
     "output_type": "stream",
     "text": [
      "[0, 0, 0]\n",
      "[0, 0, 1]\n",
      "[0, 1, 0]\n",
      "[0, 1, 1]\n",
      "[1, 0, 0]\n",
      "[1, 0, 1]\n",
      "[1, 1, 0]\n",
      "[1, 1, 1]\n"
     ]
    }
   ],
   "source": [
    "\n",
    "bit = [0, 0, 0]\n",
    "for i in range(2):\n",
    "    bit[0] = i\n",
    "    for j in range(2):\n",
    "        bit[1] = j\n",
    "        for k in range(2):\n",
    "            bit[2] = k\n",
    "            print(bit)\n",
    "'''\n",
    "[0, 0, 0]\n",
    "[0, 0, 1]\n",
    "[0, 1, 0]\n",
    "[0, 1, 1]\n",
    "[1, 0, 0]\n",
    "[1, 0, 1]\n",
    "[1, 1, 0]\n",
    "[1, 1, 1]\n",
    "'''"
   ]
  },
  {
   "cell_type": "code",
   "execution_count": 6,
   "metadata": {},
   "outputs": [
    {
     "name": "stdout",
     "output_type": "stream",
     "text": [
      "1 2 3\n",
      "1 3 2\n",
      "2 1 3\n",
      "2 3 1\n",
      "3 1 2\n",
      "3 2 1\n"
     ]
    }
   ],
   "source": [
    "\n",
    "for i1 in range(1,4):\n",
    "    for i2 in range(1,4):\n",
    "        if i2 != i1:\n",
    "            for i3 in range(1,4):\n",
    "                if i3 != i1 and i3 != i2:\n",
    "                    print(i1, i2, i3)\n",
    "'''\n",
    "1 2 3\n",
    "1 3 2\n",
    "2 1 3\n",
    "2 3 1\n",
    "3 1 2\n",
    "3 2 1\n",
    "'''\n"
   ]
  },
  {
   "cell_type": "code",
   "execution_count": 11,
   "metadata": {},
   "outputs": [
    {
     "name": "stdout",
     "output_type": "stream",
     "text": [
      "[1, 2]\n",
      "[1, 3]\n",
      "[2, 1]\n",
      "[2, 3]\n",
      "[3, 1]\n",
      "[3, 2]\n"
     ]
    },
    {
     "data": {
      "text/plain": [
       "'\\n[1, 2, 3]\\n[1, 3, 2]\\n[2, 1, 3]\\n[2, 3, 1]\\n[3, 1, 2]\\n[3, 2, 1]\\n'"
      ]
     },
     "execution_count": 11,
     "metadata": {},
     "output_type": "execute_result"
    }
   ],
   "source": [
    "\n",
    "def backtrack(lst, visited, result, target):        # 매개변수로 데이터, visited 정보, 결과, 목표를 받아준다\n",
    "    if len(result) == target:                       # 타겟에 도달, 목표에 도달했을 떄의 기저조건\n",
    "        print(result)                               # 기저조건 달성시 필요한 행동 실행\n",
    "        return                                      # 실행 이후 return\n",
    "    for i in range(len(lst)):                       # 데이터의 길이만큼 깊어질 것이므로\n",
    "        if visited[i] == False:                     # 중복을 거르기 위해 False인지 확인하고\n",
    "            visited[i] = True                       # True로 바꿔주어 중복되지 않기위한 데이터를 저장한다다\n",
    "            result.append(lst[i])                   # 해당 데이터를 일단 저장\n",
    "            backtrack(lst, visited, result, target) # 깊어지기위한 함수 추가 실행\n",
    "            visited[i] = False                      # 빠져나온 후 복구\n",
    "            result.pop()                            # result에서도 제거\n",
    "\n",
    "\n",
    "lst = [1, 2, 3]\n",
    "visited = [False]*(len(lst))\n",
    "result = []\n",
    "target = 2\n",
    "backtrack(lst, visited, result, target)\n",
    "\n",
    "'''\n",
    "[1, 2, 3]\n",
    "[1, 3, 2]\n",
    "[2, 1, 3]\n",
    "[2, 3, 1]\n",
    "[3, 1, 2]\n",
    "[3, 2, 1]\n",
    "'''\n"
   ]
  }
 ],
 "metadata": {
  "kernelspec": {
   "display_name": "Python 3",
   "language": "python",
   "name": "python3"
  },
  "language_info": {
   "codemirror_mode": {
    "name": "ipython",
    "version": 3
   },
   "file_extension": ".py",
   "mimetype": "text/x-python",
   "name": "python",
   "nbconvert_exporter": "python",
   "pygments_lexer": "ipython3",
   "version": "3.9.13"
  }
 },
 "nbformat": 4,
 "nbformat_minor": 2
}
